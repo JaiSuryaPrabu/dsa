{
 "cells": [
  {
   "attachments": {},
   "cell_type": "markdown",
   "metadata": {},
   "source": [
    "# Divide and Conquer\n",
    "\n",
    "## Steps\n",
    "\n",
    "1. Divide:\n",
    "    * The problem is broken down into subproblems\n",
    "2. Conquer\n",
    "    * The subproblem are solved individually\n",
    "3. Combine\n",
    "    * The solutions of subproblems are combined to form solution for the original problem\n",
    "\n",
    "## Problems\n",
    "\n",
    "1. Sorting\n",
    "    * Merge sort\n",
    "    * Quick sort\n",
    "2. Binary Search\n",
    "3. Maximum Subarray sum\n",
    "4. Matrix multiplication\n",
    "5. Closest pair of points\n",
    "6. The Travelling Salesman Problem"
   ]
  }
 ],
 "metadata": {
  "language_info": {
   "name": "python"
  },
  "orig_nbformat": 4
 },
 "nbformat": 4,
 "nbformat_minor": 2
}
