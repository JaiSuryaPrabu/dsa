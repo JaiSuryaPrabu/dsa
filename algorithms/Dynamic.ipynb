{
 "cells": [
  {
   "attachments": {},
   "cell_type": "markdown",
   "metadata": {},
   "source": [
    "# Dynamic programming\n",
    "* It is used to **solve** ***optimization problems***\n",
    "* Example:\n",
    "    * Fibonacci series\n",
    "        * Time complexity = $O(n^2)$\n",
    "    * When **dynamic programming** is used in *fibonacci series*\n",
    "        * Time complexity = $O(n)$\n",
    "\n",
    "\n",
    "## Steps\n",
    "1. *Breaks* the complex problem into sub problems\n",
    "2. Finds the *optimal* solution for that subproblems\n",
    "3. Saves the result this is called **memoization**\n",
    "4. If same sub problem repeats then the saved result will be used rather than solving the sub problem repeatedly\n",
    "5. Now combine the **results** of *subproblems* to solve the complex problem  \n",
    "\n"
   ]
  }
 ],
 "metadata": {
  "kernelspec": {
   "display_name": "env",
   "language": "python",
   "name": "python3"
  },
  "language_info": {
   "name": "python",
   "version": "3.11.1"
  },
  "orig_nbformat": 4
 },
 "nbformat": 4,
 "nbformat_minor": 2
}
