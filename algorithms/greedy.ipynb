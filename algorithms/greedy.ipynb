{
 "cells": [
  {
   "attachments": {},
   "cell_type": "markdown",
   "metadata": {},
   "source": [
    "# Greedy \n",
    "* Provides optimal solution\n",
    "## Explanation\n",
    "* It finds optimal solution using the **heuristic** approach of making locally optimal choices\n",
    "## Problems\n",
    "1. Knacksack problem\n",
    "2. Fractional Knacksack Problem\n",
    "3. Huffman coding\n",
    "4. Dijkstra Shortest path \n",
    "5. Prim's Minimum Spanning Tree\n",
    "6. Krushkal's minimum spanning tree\n",
    "7. Job Sequence \n",
    "8. Coin change problem\n",
    "9. Activity selection problem\n",
    "## Characteristics of problem\n",
    "* The problem can be divided into sub problems\n",
    "* The problem has optimal sub structure\n",
    "* The local optimal choice at each stage leads to global optimal solution"
   ]
  }
 ],
 "metadata": {
  "language_info": {
   "name": "python"
  },
  "orig_nbformat": 4
 },
 "nbformat": 4,
 "nbformat_minor": 2
}
