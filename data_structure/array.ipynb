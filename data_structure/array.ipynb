{
 "cells": [
  {
   "attachments": {},
   "cell_type": "markdown",
   "metadata": {},
   "source": [
    "# One dimensional \n",
    "* Contiguous memory locations\n",
    "* Same data types"
   ]
  },
  {
   "attachments": {},
   "cell_type": "markdown",
   "metadata": {},
   "source": [
    "## Static\n",
    "* Array that have *fixed length* at compile time and cannot **resize** during runtime\n",
    "* Syntax :\n",
    "    * `array(type,list_of_elements)`"
   ]
  },
  {
   "cell_type": "code",
   "execution_count": 1,
   "metadata": {},
   "outputs": [
    {
     "name": "stdout",
     "output_type": "stream",
     "text": [
      "array('i', [1, 2, 3, 4, 5])\n"
     ]
    }
   ],
   "source": [
    "from array import array\n",
    "\n",
    "\n",
    "static_array = array('i',[1,2,3,4,5])\n",
    "print(static_array)"
   ]
  },
  {
   "attachments": {},
   "cell_type": "markdown",
   "metadata": {},
   "source": [
    "## Dynamic\n",
    "* Dynamic memory locations\n",
    "* Can be resized during *run time*"
   ]
  },
  {
   "cell_type": "code",
   "execution_count": 2,
   "metadata": {},
   "outputs": [
    {
     "name": "stdout",
     "output_type": "stream",
     "text": [
      "Dynamic array :  [1, 2, 3] Size :  3\n",
      "Dynamic array :  [] Size :  0\n"
     ]
    }
   ],
   "source": [
    "dynamic_array = list()\n",
    "dynamic_array.append(1)\n",
    "dynamic_array.append(2)\n",
    "dynamic_array.append(3)\n",
    "print(\"Dynamic array : \",dynamic_array,\"Size : \",len(dynamic_array))\n",
    "dynamic_array.pop(0)\n",
    "dynamic_array.pop(0)\n",
    "dynamic_array.pop(0)\n",
    "print(\"Dynamic array : \",dynamic_array,\"Size : \",len(dynamic_array))"
   ]
  },
  {
   "attachments": {},
   "cell_type": "markdown",
   "metadata": {},
   "source": [
    "# Two dimensional Array\n",
    "* Array of **arrays**\n",
    "* Each element of an array is an *array* itself"
   ]
  },
  {
   "attachments": {},
   "cell_type": "markdown",
   "metadata": {},
   "source": [
    "## Jagged array\n",
    "* Lenght of each row are different"
   ]
  },
  {
   "cell_type": "code",
   "execution_count": 3,
   "metadata": {},
   "outputs": [
    {
     "name": "stdout",
     "output_type": "stream",
     "text": [
      "[[1], [1, 2], [1, 2, 3]]\n"
     ]
    }
   ],
   "source": [
    "jagged_array = [[1],[1,2],[1,2,3]]\n",
    "print(jagged_array)"
   ]
  },
  {
   "attachments": {},
   "cell_type": "markdown",
   "metadata": {},
   "source": [
    "## Matrix array\n",
    "* Length of each *row* are same"
   ]
  },
  {
   "cell_type": "code",
   "execution_count": 4,
   "metadata": {},
   "outputs": [
    {
     "name": "stdout",
     "output_type": "stream",
     "text": [
      "[[1, 2], [3, 4]]\n"
     ]
    }
   ],
   "source": [
    "matrix = [[1,2],[3,4]]\n",
    "print(matrix)"
   ]
  }
 ],
 "metadata": {
  "kernelspec": {
   "display_name": "Python 3",
   "language": "python",
   "name": "python3"
  },
  "language_info": {
   "codemirror_mode": {
    "name": "ipython",
    "version": 3
   },
   "file_extension": ".py",
   "mimetype": "text/x-python",
   "name": "python",
   "nbconvert_exporter": "python",
   "pygments_lexer": "ipython3",
   "version": "3.11.1"
  },
  "orig_nbformat": 4
 },
 "nbformat": 4,
 "nbformat_minor": 2
}
