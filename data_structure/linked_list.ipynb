{
 "cells": [
  {
   "attachments": {},
   "cell_type": "markdown",
   "metadata": {},
   "source": [
    "# Singly linked list\n",
    "* Each **node** contains *value* and *reference* to the next node\n",
    "* The first node is *head*\n",
    "* Advantages:\n",
    "    * Maintainace of sequencial list of elements\n",
    "* Disadvantages:\n",
    "    * Slower search times"
   ]
  },
  {
   "cell_type": "code",
   "execution_count": null,
   "metadata": {},
   "outputs": [],
   "source": [
    "from random import random\n",
    "class node:\n",
    "    def __init__(self,data):\n",
    "        self.value = data\n",
    "        self.next = None\n",
    "\n",
    "class singly_linked_list:\n",
    "    '''\n",
    "    Singly linked list\n",
    "\n",
    "    '''\n",
    "    def __init__(self):\n",
    "        self.head = None\n",
    "\n",
    "    def insert(self):\n",
    "        pass\n",
    "\n",
    "    def delete(self):\n",
    "        pass\n",
    "\n",
    "    def display(self):\n",
    "        pass"
   ]
  },
  {
   "attachments": {},
   "cell_type": "markdown",
   "metadata": {},
   "source": [
    "# Doubly linked list\n",
    "* Each **node** contains:\n",
    "    * Value\n",
    "    * *Reference* to the both *previous* and *next* node\n",
    "* Advantage:\n",
    "    * Insertion,\n",
    "    * Deletion\n",
    "    * Traversal\n",
    "* Disadvantage:\n",
    "    * High memory     "
   ]
  },
  {
   "cell_type": "code",
   "execution_count": null,
   "metadata": {},
   "outputs": [],
   "source": [
    "class doubly_linked_list:\n",
    "    pass"
   ]
  },
  {
   "attachments": {},
   "cell_type": "markdown",
   "metadata": {},
   "source": [
    "# Circular linked list\n",
    "* The last node *reference* the **head** node\n",
    "* There is no **last** node in circular linked list"
   ]
  },
  {
   "cell_type": "code",
   "execution_count": null,
   "metadata": {},
   "outputs": [],
   "source": [
    "class circular_linked_list:\n",
    "    pass"
   ]
  }
 ],
 "metadata": {
  "language_info": {
   "name": "python"
  },
  "orig_nbformat": 4
 },
 "nbformat": 4,
 "nbformat_minor": 2
}
