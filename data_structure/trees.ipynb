{
 "cells": [
  {
   "attachments": {},
   "cell_type": "markdown",
   "metadata": {},
   "source": [
    "# BINARY SEARCH TREE *BST*"
   ]
  },
  {
   "cell_type": "code",
   "execution_count": 3,
   "metadata": {},
   "outputs": [],
   "source": [
    "class bst_node:\n",
    "\n",
    "    def __init__(self,data):\n",
    "        self.data = data\n",
    "        self.left = None\n",
    "        self.right = None\n",
    "\n",
    "class BST:\n",
    "    def __init__(self):\n",
    "        self.root = None\n",
    "\n",
    "    def insert(self,data):\n",
    "        new_node = bst_node(data=data)\n",
    "        if self.root is None:\n",
    "            self.root = new_node\n",
    "            return\n",
    "\n",
    "        temp = self.root\n",
    "        while True:\n",
    "            if data < temp.data:\n",
    "                if temp.left is None:\n",
    "                    temp.left = new_node\n",
    "                    return\n",
    "                else:\n",
    "                    temp = temp.right\n",
    "            else:\n",
    "                if temp.right is None:\n",
    "                    temp.right = new_node\n",
    "                    return\n",
    "                else:\n",
    "                    temp = temp.right\n",
    "                    \n",
    "\n",
    "    def delete(self,data):\n",
    "        pass\n",
    "\n",
    "    def display(self):\n",
    "        temp = self.root\n",
    "        while True:\n",
    "            print(temp.data,end=\"\\t\")\n",
    "            if temp.left is not None:\n",
    "                temp = temp.left\n",
    "            elif temp.right is not None:\n",
    "                temp = temp.right\n",
    "            elif temp.right is None and temp.left is None:\n",
    "                return\n",
    "            "
   ]
  },
  {
   "cell_type": "code",
   "execution_count": 4,
   "metadata": {},
   "outputs": [
    {
     "name": "stdout",
     "output_type": "stream",
     "text": [
      "1\t2\t5\t3\t"
     ]
    }
   ],
   "source": [
    "bst = BST()\n",
    "bst.insert(1)\n",
    "bst.insert(2)\n",
    "bst.insert(5)\n",
    "bst.insert(3)\n",
    "bst.display()"
   ]
  },
  {
   "attachments": {},
   "cell_type": "markdown",
   "metadata": {},
   "source": [
    "# AVL"
   ]
  },
  {
   "cell_type": "code",
   "execution_count": null,
   "metadata": {},
   "outputs": [],
   "source": []
  },
  {
   "attachments": {},
   "cell_type": "markdown",
   "metadata": {},
   "source": [
    "# RED BLACK TREE"
   ]
  },
  {
   "cell_type": "code",
   "execution_count": null,
   "metadata": {},
   "outputs": [],
   "source": []
  },
  {
   "attachments": {},
   "cell_type": "markdown",
   "metadata": {},
   "source": [
    "# N-ary Tree"
   ]
  },
  {
   "cell_type": "code",
   "execution_count": null,
   "metadata": {},
   "outputs": [],
   "source": []
  },
  {
   "attachments": {},
   "cell_type": "markdown",
   "metadata": {},
   "source": [
    "# Trie Tree"
   ]
  }
 ],
 "metadata": {
  "kernelspec": {
   "display_name": "env",
   "language": "python",
   "name": "python3"
  },
  "language_info": {
   "codemirror_mode": {
    "name": "ipython",
    "version": 3
   },
   "file_extension": ".py",
   "mimetype": "text/x-python",
   "name": "python",
   "nbconvert_exporter": "python",
   "pygments_lexer": "ipython3",
   "version": "3.11.1"
  },
  "orig_nbformat": 4
 },
 "nbformat": 4,
 "nbformat_minor": 2
}
