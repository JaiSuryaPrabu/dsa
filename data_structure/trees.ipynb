{
 "cells": [
  {
   "attachments": {},
   "cell_type": "markdown",
   "metadata": {},
   "source": [
    "# BINARY SEARCH TREE *BST*"
   ]
  },
  {
   "cell_type": "code",
   "execution_count": 14,
   "metadata": {},
   "outputs": [],
   "source": [
    "class bst_node:\n",
    "\n",
    "    def __init__(self,data):\n",
    "        self.data = data\n",
    "        self.left = None\n",
    "        self.right = None\n",
    "\n",
    "class BST:\n",
    "    def __init__(self):\n",
    "        self.root = None\n",
    "\n",
    "    def insert(self,data):\n",
    "        new_node = bst_node(data=data)\n",
    "        if self.root is None:\n",
    "            self.root = new_node\n",
    "            return\n",
    "\n",
    "        temp = self.root\n",
    "        while True:\n",
    "            if data < temp.data:\n",
    "                if temp.left is None:\n",
    "                    temp.left = new_node\n",
    "                    return\n",
    "                else:\n",
    "                    temp = temp.right\n",
    "            else:\n",
    "                if temp.right is None:\n",
    "                    temp.right = new_node\n",
    "                    return\n",
    "                else:\n",
    "                    temp = temp.right\n",
    "                    \n",
    "\n",
    "    def delete(self,data):\n",
    "        if self.root is None:\n",
    "            return \n",
    "        \n",
    "        current = self.root\n",
    "        parent = None\n",
    "\n",
    "        # to find the node\n",
    "        while current is not None and current.data != data:\n",
    "            parent = current\n",
    "            if data < current.data:\n",
    "                current = current.left\n",
    "            else:\n",
    "                current = current.right\n",
    "\n",
    "        # if data not found\n",
    "        if current is None:\n",
    "            return\n",
    "        \n",
    "        # 1. no children\n",
    "        if current.left is None and current.right is None:\n",
    "            # 1st node\n",
    "            if current == self.root:\n",
    "                self.root = None\n",
    "            else:\n",
    "                if parent.left == current:\n",
    "                    parent.left = None\n",
    "                else:\n",
    "                    parent.right = None\n",
    "        \n",
    "        # 2. One Children\n",
    "        elif current.left is None:\n",
    "            if current == self.root:\n",
    "                self.root = current.right\n",
    "            else:\n",
    "                if parent.left == current:\n",
    "                    parent.left = current.right\n",
    "                else:\n",
    "                    parent.right = current.right\n",
    "        elif current.right is None:\n",
    "            if current == self.root:\n",
    "                self.root = current.left\n",
    "            else:\n",
    "                if parent.left == current:\n",
    "                    parent.left = current.left\n",
    "                else:\n",
    "                    parent.right = current.left\n",
    "\n",
    "        # 3. Two children\n",
    "        else:\n",
    "            successor_parent = current\n",
    "            successor = current.right\n",
    "            while successor.left is not None:\n",
    "                successor_parent = successor\n",
    "                successor = successor.left\n",
    "            \n",
    "            # replace the node's value with the successor's value\n",
    "            current.val = successor.val\n",
    "            \n",
    "            # delete the successor\n",
    "            if successor_parent.left == successor:\n",
    "                successor_parent.left = successor.right\n",
    "            else:\n",
    "                successor_parent.right = successor.right\n",
    "\n",
    "\n",
    "    def display(self):\n",
    "        temp = self.root\n",
    "        while True:\n",
    "            print(temp.data,end=\"\\t\")\n",
    "            if temp.left is not None:\n",
    "                temp = temp.left\n",
    "            elif temp.right is not None:\n",
    "                temp = temp.right\n",
    "            elif temp.right is None and temp.left is None:\n",
    "                return\n",
    "            "
   ]
  },
  {
   "cell_type": "code",
   "execution_count": 15,
   "metadata": {},
   "outputs": [
    {
     "name": "stdout",
     "output_type": "stream",
     "text": [
      "1\t2\t5\t3\t"
     ]
    }
   ],
   "source": [
    "bst = BST()\n",
    "bst.insert(1)\n",
    "bst.insert(2)\n",
    "bst.insert(5)\n",
    "bst.insert(3)\n",
    "bst.display()"
   ]
  },
  {
   "cell_type": "code",
   "execution_count": 16,
   "metadata": {},
   "outputs": [
    {
     "name": "stdout",
     "output_type": "stream",
     "text": [
      "1\t2\t3\t"
     ]
    }
   ],
   "source": [
    "bst.delete(5)\n",
    "bst.display()"
   ]
  },
  {
   "attachments": {},
   "cell_type": "markdown",
   "metadata": {},
   "source": [
    "# AVL"
   ]
  },
  {
   "cell_type": "code",
   "execution_count": null,
   "metadata": {},
   "outputs": [],
   "source": []
  },
  {
   "attachments": {},
   "cell_type": "markdown",
   "metadata": {},
   "source": [
    "# RED BLACK TREE"
   ]
  },
  {
   "cell_type": "code",
   "execution_count": null,
   "metadata": {},
   "outputs": [],
   "source": []
  },
  {
   "attachments": {},
   "cell_type": "markdown",
   "metadata": {},
   "source": [
    "# N-ary Tree"
   ]
  },
  {
   "cell_type": "code",
   "execution_count": null,
   "metadata": {},
   "outputs": [],
   "source": []
  },
  {
   "attachments": {},
   "cell_type": "markdown",
   "metadata": {},
   "source": [
    "# Trie Tree"
   ]
  }
 ],
 "metadata": {
  "kernelspec": {
   "display_name": "env",
   "language": "python",
   "name": "python3"
  },
  "language_info": {
   "codemirror_mode": {
    "name": "ipython",
    "version": 3
   },
   "file_extension": ".py",
   "mimetype": "text/x-python",
   "name": "python",
   "nbconvert_exporter": "python",
   "pygments_lexer": "ipython3",
   "version": "3.11.1"
  },
  "orig_nbformat": 4
 },
 "nbformat": 4,
 "nbformat_minor": 2
}
